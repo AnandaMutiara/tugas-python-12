{
  "nbformat": 4,
  "nbformat_minor": 0,
  "metadata": {
    "colab": {
      "name": "Untitled1.ipynb",
      "provenance": [],
      "authorship_tag": "ABX9TyMz5LMP+3ZQyWWwA/D0vtEm",
      "include_colab_link": true
    },
    "kernelspec": {
      "name": "python3",
      "display_name": "Python 3"
    }
  },
  "cells": [
    {
      "cell_type": "markdown",
      "metadata": {
        "id": "view-in-github",
        "colab_type": "text"
      },
      "source": [
        "<a href=\"https://colab.research.google.com/github/AnandaMutiara/tugas-python-12/blob/main/AnandaMutiaraPrabowo.ipynb\" target=\"_parent\"><img src=\"https://colab.research.google.com/assets/colab-badge.svg\" alt=\"Open In Colab\"/></a>"
      ]
    },
    {
      "cell_type": "code",
      "metadata": {
        "id": "JSzo6CFCLoBl",
        "colab": {
          "base_uri": "https://localhost:8080/"
        },
        "outputId": "2ab23e09-0e86-4ede-9344-f2b6e268d2d5"
      },
      "source": [
        "d = int(input(\"Masukkan jarak dalam kilometer: \"))\r\n",
        "fc = int(input(\"Masukkan frekuensi 400MHz-2000MHz: \"))\r\n",
        "area = input(\"masukkan tipe area: \")\r\n",
        "ht = int(input(\"Masukkan tinggi antena pemancar 30-200 meter: \"))\r\n",
        "hr = int(input(\"Masukkan tinggi antena penerima 1-30 meter: \"))"
      ],
      "execution_count": 60,
      "outputs": [
        {
          "output_type": "stream",
          "text": [
            "Masukkan jarak dalam kilometer: 120\n",
            "Masukkan frekuensi 400MHz-2000MHz: 425\n",
            "masukkan tipe area: suburban\n",
            "Masukkan tinggi antena pemancar 30-200 meter: 120\n",
            "Masukkan tinggi antena penerima 1-30 meter: 21\n"
          ],
          "name": "stdout"
        }
      ]
    },
    {
      "cell_type": "code",
      "metadata": {
        "id": "cArqS-NGmIQG"
      },
      "source": [
        "import numpy as np"
      ],
      "execution_count": 61,
      "outputs": []
    },
    {
      "cell_type": "code",
      "metadata": {
        "id": "2dROxd-4IC-k"
      },
      "source": [
        "NtL = lambda x: 10*np.log10(x)"
      ],
      "execution_count": 62,
      "outputs": []
    },
    {
      "cell_type": "code",
      "metadata": {
        "id": "_ucTblHWIbv0"
      },
      "source": [
        "LtN = lambda x: 10**(x/10)"
      ],
      "execution_count": 63,
      "outputs": []
    },
    {
      "cell_type": "code",
      "metadata": {
        "id": "pMDXT3OVFAcj"
      },
      "source": [
        "def cesatu (A):\r\n",
        "  if A in range (400,1500):\r\n",
        "    return 69.55\r\n",
        "    \r\n",
        "  elif A in range (1500,2000):\r\n",
        "    return 46.3"
      ],
      "execution_count": 64,
      "outputs": []
    },
    {
      "cell_type": "code",
      "metadata": {
        "id": "rpSWdOyXGMR3"
      },
      "source": [
        "def cedua (A):\r\n",
        "  if A in range (400,1500):\r\n",
        "    return 26.16\r\n",
        "    \r\n",
        "  elif A in range (1500,2000):\r\n",
        "    return 33.9"
      ],
      "execution_count": 65,
      "outputs": []
    },
    {
      "cell_type": "code",
      "metadata": {
        "id": "f78mg5lCJ2_V"
      },
      "source": [
        "def ceem (area,fc):\r\n",
        "  if area == \"urban\":\r\n",
        "    return 0\r\n",
        "  if area == \"suburban\":\r\n",
        "    return -2*(np.log10(fc/28)**2 - 5.4)\r\n",
        "  if area == \"open\":\r\n",
        "    return -4.78*(np.log10(fc))**2 + 18.33*np.log10(fc)- 40.94"
      ],
      "execution_count": 66,
      "outputs": []
    },
    {
      "cell_type": "code",
      "metadata": {
        "id": "brP30AHxIN0x"
      },
      "source": [
        "def aheer(A):\r\n",
        "  return (1.1*np.log10(A)-0.7)*hr - (1.56*np.log10(A)-0.8)"
      ],
      "execution_count": 67,
      "outputs": []
    },
    {
      "cell_type": "code",
      "metadata": {
        "id": "MUxkX3EWZGwi"
      },
      "source": [
        "c1 = cesatu(fc)\r\n",
        "c2 = cedua(fc)\r\n",
        "cm = ceem(area,fc)\r\n",
        "ahr = aheer(fc)"
      ],
      "execution_count": 68,
      "outputs": []
    },
    {
      "cell_type": "code",
      "metadata": {
        "colab": {
          "base_uri": "https://localhost:8080/"
        },
        "id": "IU-tvEb1ZV1m",
        "outputId": "56d83997-3e40-4ab2-e8ed-9cc071955968"
      },
      "source": [
        "print(c1)\r\n",
        "print(c2)\r\n",
        "print(cm)\r\n",
        "print(ahr)"
      ],
      "execution_count": 69,
      "outputs": [
        {
          "output_type": "stream",
          "text": [
            "69.55\n",
            "26.16\n",
            "8.009387127874545\n",
            "42.715497553283726\n"
          ],
          "name": "stdout"
        }
      ]
    },
    {
      "cell_type": "code",
      "metadata": {
        "id": "_RWlosFdLhlO",
        "colab": {
          "base_uri": "https://localhost:8080/"
        },
        "outputId": "1369b1ff-ead6-47d3-c687-3636bfffb355"
      },
      "source": [
        "\n",
        "pldb = c1 + c2*np.log10(fc) - 13.83*np.log10(ht) - ahr + (44.9-6.55*np.log10(ht))*np.log10(d) + cm\n",
        "print(\"Pathloss adalah: \", pldb , \" db\")\n",
        " "
      ],
      "execution_count": 70,
      "outputs": [
        {
          "output_type": "stream",
          "text": [
            "Pathloss adalah:  139.88709031625584  db\n"
          ],
          "name": "stdout"
        }
      ]
    }
  ]
}